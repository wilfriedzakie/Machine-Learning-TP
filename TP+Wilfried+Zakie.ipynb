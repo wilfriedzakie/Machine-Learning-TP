{
 "cells": [
  {
   "cell_type": "markdown",
   "metadata": {},
   "source": [
    "# TP1 Machine Learning and Data Mining\n"
   ]
  },
  {
   "cell_type": "markdown",
   "metadata": {},
   "source": [
    "This TP is the implementation of classifiers on the famous Iris dataset using python and Jupiter notebook.\n",
    "\n",
    "First the dataset is loaded and the data as well as the target are stored repectively in the variables **iris_X** and **iris_y**.\n",
    "\n",
    "Further, in order to build a good model, iris dataset is split into 2 parts :Testing data and Traning data\n",
    "These sub datasets are build randomly using the **numpy.random** function.\n",
    "\n",
    "The 10 first data, after random permutation, are assigned to the  data and testing the remaining for training.\n",
    "\n",
    "The trainning dataset is stored in the array  **iris_X_train** for the features and in the vector **iris_y_train** for the target. \n",
    "As for the testing dataset, we use **iris_X_test** and **iris_y_test** respectively for the testing features and testing target. "
   ]
  },
  {
   "cell_type": "code",
   "execution_count": 69,
   "metadata": {},
   "outputs": [],
   "source": [
    "import matplotlib.pyplot as plt\n",
    "import numpy as np\n",
    "from sklearn import datasets\n",
    "from sklearn.metrics import accuracy_score\n",
    "from sklearn import metrics\n",
    "\n",
    "\n",
    "iris = datasets.load_iris()\n",
    "iris_X = iris.data\n",
    "iris_y = iris.target #Les labels associés à chaque enregistrement # target[0] est le label de iris['data'][0]\n",
    "np.unique( iris_y )\n",
    "\n",
    "np.random.seed (0)\n",
    "indices = np.random.permutation ( len ( iris_X ) )\n",
    "iris_X_train = iris_X [ indices [: -10]]\n",
    "iris_y_train = iris_y [ indices [: -10]]\n",
    "iris_X_test = iris_X [ indices [ -10:]]\n",
    "iris_y_test = iris_y [ indices [ - 10:]]\n",
    "\n"
   ]
  },
  {
   "cell_type": "markdown",
   "metadata": {},
   "source": [
    "## 1. Training of K-Nearest Neighbor for k=5"
   ]
  },
  {
   "cell_type": "markdown",
   "metadata": {},
   "source": [
    "In this cell, we train our model using K nearest neighbor algoritjm with **k=5**. \n",
    "The KNN classifier is imported from **sklearn.neighbors**. The classifier is applied and distance are calculated using Eucludian distance. This is represented by the value **5** assigned to its argument **p**.\n",
    "\n",
    "We train our model by fitting the features (**iris_X_train**) to the targets (**iris_y_train**).\n",
    "Then, we try a prediction for our testing features and the result  is stored in **ypred**.\n",
    "\n",
    "In order to see the performance of this algorithm on this dataset, a comparision is first done between the predicted testing target and the true testing target. The wrongly classified data are printed along with their position.\n",
    "Below the accuracy score of the algorithm is also displayed."
   ]
  },
  {
   "cell_type": "code",
   "execution_count": 100,
   "metadata": {},
   "outputs": [
    {
     "name": "stdout",
     "output_type": "stream",
     "text": [
      "Confusion matrix\n",
      "[[4 0 0]\n",
      " [0 3 1]\n",
      " [0 0 2]]\n",
      "\n",
      "predicted values:\n",
      "[1 2 1 0 0 0 2 1 2 0]\n",
      "Actual values:\n",
      "[1 1 1 0 0 0 2 1 2 0]\n",
      "At position 2, predicted value 2 dont match with true value 1\n",
      "\n",
      "Accuracy score: 0.900\n"
     ]
    }
   ],
   "source": [
    "from sklearn.neighbors import KNeighborsClassifier\n",
    "knn=KNeighborsClassifier(algorithm = \"auto\" ,leaf_size =30 ,\n",
    "    metric = \"minkowski\" , metric_params =None ,\n",
    "    n_jobs = 1 , n_neighbors =3, p =5 ,weights = \"uniform\")\n",
    "knn.fit(iris_X_train,iris_y_train )\n",
    "y_pred=knn.predict(iris_X_test)\n",
    "\n",
    "print(\"Confusion matrix\")\n",
    "print(metrics.confusion_matrix(iris_y_test, y_pred))\n",
    "\n",
    "error=[]\n",
    "print(\"\\npredicted values:\")\n",
    "print(y_pred)\n",
    "print(\"Actual values:\")\n",
    "print(iris_y_test)\n",
    "\n",
    "\n",
    "for i in range(0,iris_y_test.size):\n",
    "   if ypred[i]!= iris_y_test[i]:\n",
    "        print(\"At position %d, predicted value %d dont match with true value %d\"  %(i+1,ypred[i], iris_y_test[i]))\n",
    "knn5=accuracy_score(iris_y_test,ypred)\n",
    "print('\\nAccuracy score: %.3f'%accuracy_score(iris_y_test,ypred))"
   ]
  },
  {
   "cell_type": "markdown",
   "metadata": {},
   "source": [
    "## 2. Optimal values of k"
   ]
  },
  {
   "cell_type": "markdown",
   "metadata": {},
   "source": [
    "To get the optimal value of k that increases the KNN accuracy score,different values from 1 to 30 included, are passed in the **KNeighborsClassifier(n_neighbors=k)** function as k value.\n",
    "\n",
    "The accuracy score for each value of k is stored in the vector **res [ ]**. Further, the maximum score as well as the values of k which have that score are printed.\n",
    "\n",
    "A graph is plotted to illustrate the accuracy scores as function of the values of k."
   ]
  },
  {
   "cell_type": "code",
   "execution_count": 103,
   "metadata": {},
   "outputs": [
    {
     "name": "stdout",
     "output_type": "stream",
     "text": [
      "The values of k that maximise the accuracy are:\n",
      "[8, 9, 10, 11, 12, 14, 16, 17, 18, 19, 20, 21, 22, 23, 24, 26, 27, 28, 29, 30]\n",
      "\n",
      "Maximimum accuracy score is: 1.0000\n"
     ]
    },
    {
     "data": {
      "image/png": "[encoded data removed]",
      "text/plain": [
       "<matplotlib.figure.Figure at 0x23c46bb1e10>"
      ]
     },
     "metadata": {},
     "output_type": "display_data"
    }
   ],
   "source": [
    "#values of k from 1 to 31\n",
    "krange=range(1,31)\n",
    "res=[]\n",
    "for k in krange:\n",
    "    knn=KNeighborsClassifier(algorithm = \"auto\" ,leaf_size =30 ,\n",
    "    metric = \"minkowski\" , metric_params =None ,\n",
    "    n_jobs = 1 , n_neighbors =k, p =2 ,weights = \"uniform\")\n",
    "    knn.fit(iris_X_train,iris_y_train )\n",
    "    \n",
    "    kpred=knn.predict(iris_X_test)\n",
    "    res.append(accuracy_score (iris_y_test , kpred))\n",
    "\n",
    "k_optimal=[]\n",
    "for k, j in enumerate(res):\n",
    "    if j == max(res):\n",
    "        k_optimal.append(k+1)\n",
    "        \n",
    "print(\"The values of k that maximise the accuracy are:\")\n",
    "print(k_optimal)\n",
    "plt.plot(krange,res)\n",
    "max_score=max(res)\n",
    "print(\"\\nMaximimum accuracy score is: %.4f\"%max_score)\n",
    "plt.ylabel('Accuracy Score')\n",
    "plt.xlabel('k') \n",
    "plt.show()\n"
   ]
  },
  {
   "cell_type": "markdown",
   "metadata": {},
   "source": [
    "## 3. Training with Naives Bayes Algorithm and Logistic Regression"
   ]
  },
  {
   "cell_type": "markdown",
   "metadata": {},
   "source": [
    "   ### 3.1 Naive Bayes"
   ]
  },
  {
   "cell_type": "markdown",
   "metadata": {},
   "source": [
    "After applying the algorithm, the confusion matrix shows us that one data out of 10 is wrongly classified.\n",
    "below, The accuracy score is displayed as well as the classification error."
   ]
  },
  {
   "cell_type": "code",
   "execution_count": 85,
   "metadata": {},
   "outputs": [
    {
     "name": "stdout",
     "output_type": "stream",
     "text": [
      "Confusion matrix\n",
      "[[4 0 0]\n",
      " [0 3 1]\n",
      " [0 0 2]]\n",
      "\n",
      "predicted values:\n",
      "[1 2 1 0 0 0 2 1 2 0]\n",
      "Actual values:\n",
      "[1 1 1 0 0 0 2 1 2 0]\n",
      "At position 2, predicted value 2 dont match with true value 1\n",
      "\n",
      "Naive Bayes accuracy score: 0.900\n"
     ]
    }
   ],
   "source": [
    "from sklearn.naive_bayes import GaussianNB\n",
    "n_bayes = GaussianNB()\n",
    "n_bayes.fit(iris_X_train, iris_y_train)\n",
    "y_pred=n_bayes.predict(iris_X_test)\n",
    "n_bayes_score=accuracy_score (iris_y_test , y_pred)\n",
    "print(\"Confusion matrix\")\n",
    "print(metrics.confusion_matrix(iris_y_test, y_pred))\n",
    "\n",
    "print(\"\\npredicted values:\")\n",
    "print(y_pred)\n",
    "print(\"Actual values:\")\n",
    "print(iris_y_test)\n",
    "for i in range(0,iris_y_test.size):\n",
    "   if ypred[i]!= iris_y_test[i]:\n",
    "        print(\"At position %d, predicted value %d dont match with true value %d\"  %(i+1,ypred[i], iris_y_test[i]))\n",
    "print(\"\\nNaive Bayes accuracy score: %.3f\"%n_bayes_score)"
   ]
  },
  {
   "cell_type": "markdown",
   "metadata": {},
   "source": [
    "  ### 3.2 Support vector Machine Classifier"
   ]
  },
  {
   "cell_type": "markdown",
   "metadata": {},
   "source": [
    "The SVM algorithm, with default arguments, gives the same accuracy score as the Naive Bayes Agorithm. "
   ]
  },
  {
   "cell_type": "code",
   "execution_count": 98,
   "metadata": {},
   "outputs": [
    {
     "name": "stdout",
     "output_type": "stream",
     "text": [
      "Confusion matrix\n",
      "[[4 0 0]\n",
      " [0 3 1]\n",
      " [0 0 2]]\n",
      "\n",
      "predicted values:\n",
      "[1 2 1 0 0 0 2 1 2 0]\n",
      "Actual values:\n",
      "[1 1 1 0 0 0 2 1 2 0]\n",
      "At position 2, predicted value 2 is different from expected value 1\n",
      "\n",
      "SVM accuracy score: 0.900\n"
     ]
    }
   ],
   "source": [
    "from sklearn.svm import SVC\n",
    "svm = SVC()\n",
    "svm.fit(iris_X_train,iris_y_train )\n",
    "y_pred=svm.predict(iris_X_test)\n",
    "svm_score=accuracy_score (iris_y_test ,y_pred)\n",
    "print(\"Confusion matrix\")\n",
    "print(metrics.confusion_matrix(iris_y_test, y_pred))\n",
    "\n",
    "print(\"\\npredicted values:\")\n",
    "print(y_pred)\n",
    "print(\"Actual values:\")\n",
    "print(iris_y_test)\n",
    "\n",
    "for i in range(0,iris_y_test.size):\n",
    "   if ypred[i]!= iris_y_test[i]:\n",
    "        print(\"At position %d, predicted value %d is different from expected value %d\"  %(i+1,ypred[i], iris_y_test[i]))\n",
    "print(\"\\nSVM accuracy score: %.3f\"%svm_score)"
   ]
  },
  {
   "cell_type": "markdown",
   "metadata": {},
   "source": [
    "## Classifiers comparison"
   ]
  },
  {
   "cell_type": "markdown",
   "metadata": {},
   "source": [
    "The bar chart displayed below shows the performance of the algorithms implemented by their **accuracy score**.\n",
    "Both knn accuracy scores for **k=5** and optimal value of k."
   ]
  },
  {
   "cell_type": "code",
   "execution_count": 104,
   "metadata": {},
   "outputs": [
    {
     "data": {
      "text/plain": [
       "<matplotlib.figure.Figure at 0x23c46d33710>"
      ]
     },
     "metadata": {},
     "output_type": "display_data"
    },
    {
     "data": {
      "image/png": "[encoded data removed]",
      "text/plain": [
       "<matplotlib.figure.Figure at 0x23c46d336d8>"
      ]
     },
     "metadata": {},
     "output_type": "display_data"
    }
   ],
   "source": [
    "import matplotlib.pyplot as plt\n",
    "#import plotly.plotly as py\n",
    "\n",
    "multiple_bars = plt.figure()\n",
    "\n",
    "xaxis=[u'KNN with optimal k',u'KNN with k=5', u'SVM', u'Naive Bayes']\n",
    "yaxis =[max_score,knn5, svm_score, n_bayes_score]\n",
    "\n",
    "fig, ax = plt.subplots()    \n",
    "width = 0.25 # the width of the bars \n",
    "ind = np.arange(len(yaxis))  # the x locations for the groups\n",
    "ax.barh(ind, yaxis, width, color=\"blue\")\n",
    "ax.set_yticks(ind+width/2)\n",
    "ax.set_yticklabels(xaxis, minor=False)\n",
    "plt.title('Accuracy Score comparison')\n",
    "plt.xlabel('Accuracy Score')\n",
    "plt.ylabel('Algorithms')    \n",
    "for i, v in enumerate(yaxis):\n",
    "    ax.text(v , i, str(v), color='blue', fontweight='bold')\n",
    "plt.show()"
   ]
  },
  {
   "cell_type": "markdown",
   "metadata": {
    "collapsed": true
   },
   "source": []
  }
 ],
 "metadata": {
  "kernelspec": {
   "display_name": "Python 3",
   "language": "python",
   "name": "python3"
  },
  "language_info": {
   "codemirror_mode": {
    "name": "ipython",
    "version": 3
   },
   "file_extension": ".py",
   "mimetype": "text/x-python",
   "name": "python",
   "nbconvert_exporter": "python",
   "pygments_lexer": "ipython3",
   "version": "3.6.2"
  }
 },
 "nbformat": 4,
 "nbformat_minor": 2
}
